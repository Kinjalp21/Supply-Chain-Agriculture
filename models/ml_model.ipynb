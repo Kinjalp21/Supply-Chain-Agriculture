{
 "cells": [
  {
   "cell_type": "code",
   "execution_count": 28,
   "id": "8dd18e07",
   "metadata": {},
   "outputs": [
    {
     "name": "stdout",
     "output_type": "stream",
     "text": [
      "Mean Squared Error (MSE) for Shipping Costs Prediction: 7.167927578356152\n"
     ]
    }
   ],
   "source": [
    "import pandas as pd\n",
    "from sklearn.model_selection import train_test_split\n",
    "from sklearn.ensemble import RandomForestRegressor\n",
    "from sklearn.metrics import mean_squared_error\n",
    "from sklearn.preprocessing import LabelEncoder, StandardScaler, OneHotEncoder\n",
    "from sklearn.compose import ColumnTransformer\n",
    "from sklearn.pipeline import Pipeline\n",
    "\n",
    "# Load the supply chain dataset\n",
    "supply_chain_df = pd.read_csv('../supply_chain_data.csv')\n",
    "\n",
    "# Drop rows with missing values or impute if necessary (Here, we drop for simplicity)\n",
    "supply_chain_df = supply_chain_df.dropna()\n",
    "\n",
    "# Select relevant features and target variable for prediction (e.g., predicting 'Shipping costs')\n",
    "features = ['Lead times', 'Stock levels', 'Order quantities', 'Shipping times', 'Shipping carriers']\n",
    "target = 'Shipping costs'\n",
    "\n",
    "# Encode categorical columns like 'Shipping carriers'\n",
    "# We will use OneHotEncoder for 'Shipping carriers'\n",
    "column_transformer = ColumnTransformer(\n",
    "    transformers=[\n",
    "        ('cat', OneHotEncoder(), ['Shipping carriers']),\n",
    "        ('num', StandardScaler(), ['Lead times', 'Stock levels', 'Order quantities', 'Shipping times'])\n",
    "    ], \n",
    "    remainder='passthrough'  # Keep the other columns unchanged\n",
    ")\n",
    "\n",
    "# Split data into features (X) and target variable (y)\n",
    "X = supply_chain_df[features]\n",
    "y = supply_chain_df[target]\n",
    "\n",
    "# Split data into training and testing sets\n",
    "X_train, X_test, y_train, y_test = train_test_split(X, y, test_size=0.2, random_state=42)\n",
    "\n",
    "# Initialize a pipeline with column transformer and model\n",
    "pipeline = Pipeline(steps=[\n",
    "    ('preprocessor', column_transformer),\n",
    "    ('model', RandomForestRegressor(n_estimators=100, random_state=42))\n",
    "])\n",
    "\n",
    "# Train the model using the pipeline\n",
    "pipeline.fit(X_train, y_train)\n",
    "\n",
    "# Make predictions\n",
    "y_pred = pipeline.predict(X_test)\n",
    "\n",
    "# Evaluate the model's performance using Mean Squared Error (MSE)\n",
    "mse = mean_squared_error(y_test, y_pred)\n",
    "print(f'Mean Squared Error (MSE) for Shipping Costs Prediction: {mse}')"
   ]
  },
  {
   "cell_type": "code",
   "execution_count": 37,
   "id": "0b6b6957",
   "metadata": {},
   "outputs": [
    {
     "data": {
      "text/plain": [
       "['supply_chain_model.pkl']"
      ]
     },
     "execution_count": 37,
     "metadata": {},
     "output_type": "execute_result"
    }
   ],
   "source": [
    "import pandas as pd\n",
    "from sklearn.ensemble import RandomForestRegressor\n",
    "from sklearn.pipeline import Pipeline\n",
    "from sklearn.preprocessing import OneHotEncoder, StandardScaler\n",
    "from sklearn.compose import ColumnTransformer\n",
    "from sklearn.model_selection import train_test_split\n",
    "import joblib\n",
    "\n",
    "# Load dataset\n",
    "df = pd.read_csv('../supply_chain_data.csv')\n",
    "\n",
    "# Define features and target\n",
    "target = 'Revenue generated'\n",
    "features = df.drop(columns=[target])\n",
    "X = features\n",
    "y = df[target]\n",
    "\n",
    "# Define categorical and numerical columns\n",
    "categorical = X.select_dtypes(include='object').columns.tolist()\n",
    "numerical = X.select_dtypes(exclude='object').columns.tolist()\n",
    "\n",
    "# Build pipeline\n",
    "preprocessor = ColumnTransformer([\n",
    "    ('num', StandardScaler(), numerical),\n",
    "    ('cat', OneHotEncoder(handle_unknown='ignore'), categorical)\n",
    "])\n",
    "\n",
    "pipeline = Pipeline([\n",
    "    ('preprocessor', preprocessor),\n",
    "    ('model', RandomForestRegressor(n_estimators=100, random_state=42))\n",
    "])\n",
    "\n",
    "# Train and save model\n",
    "pipeline.fit(X, y)\n",
    "joblib.dump(pipeline, 'supply_chain_model.pkl')\n"
   ]
  },
  {
   "cell_type": "code",
   "execution_count": null,
   "id": "6275712f",
   "metadata": {},
   "outputs": [],
   "source": []
  }
 ],
 "metadata": {
  "kernelspec": {
   "display_name": "Python 3",
   "language": "python",
   "name": "python3"
  },
  "language_info": {
   "codemirror_mode": {
    "name": "ipython",
    "version": 3
   },
   "file_extension": ".py",
   "mimetype": "text/x-python",
   "name": "python",
   "nbconvert_exporter": "python",
   "pygments_lexer": "ipython3",
   "version": "3.12.0"
  }
 },
 "nbformat": 4,
 "nbformat_minor": 5
}
